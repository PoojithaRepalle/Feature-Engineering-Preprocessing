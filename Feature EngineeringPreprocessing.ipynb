{
  "nbformat": 4,
  "nbformat_minor": 0,
  "metadata": {
    "colab": {
      "provenance": [],
      "toc_visible": true
    },
    "kernelspec": {
      "name": "python3",
      "display_name": "Python 3"
    },
    "language_info": {
      "name": "python"
    }
  },
  "cells": [
    {
      "cell_type": "code",
      "execution_count": null,
      "metadata": {
        "colab": {
          "base_uri": "https://localhost:8080/"
        },
        "id": "RdYQls9WvOmq",
        "outputId": "89678b21-72a2-4aae-c1ce-fccb94530110"
      },
      "outputs": [
        {
          "output_type": "stream",
          "name": "stdout",
          "text": [
            "Vector (1xN): [0.87602926 0.01112755 0.08222527 0.09074826 0.91670093 0.04768003\n",
            " 0.94045972 0.00315849 0.78950339 0.63346994]\n",
            "Mean of the vector: 0.4391102842522102\n",
            "Variance of the vector: 0.16060571275577104\n"
          ]
        }
      ],
      "source": [
        "import numpy as np\n",
        "def mean_and_variance(vector):\n",
        "    mean = np.mean(vector)\n",
        "    variance = np.var(vector)\n",
        "    return mean, variance\n",
        "N = 10\n",
        "vector = np.random.rand(N)\n",
        "mean, variance = mean_and_variance(vector)\n",
        "print(\"Vector (1xN):\", vector)\n",
        "print(\"Mean of the vector:\", mean)\n",
        "print(\"Variance of the vector:\", variance)\n",
        "# Mean: The mean of the sample represents the average value of all the features in the vector.\n",
        "#       It gives a central value that summarizes the overall tendency of the features.\n",
        "# Variance: The variance represents the spread or dispersion of the feature values around the mean.\n",
        "#           A higher variance indicates that the feature values are more spread out, while a lower variance\n",
        "#           indicates that they are closer to the mean.\n",
        "\n"
      ]
    },
    {
      "cell_type": "code",
      "source": [
        "import numpy as np\n",
        "\n",
        "def compute_covariance(vector1, vector2):\n",
        "\n",
        "    covariance_matrix = np.cov(vector1, vector2)\n",
        "    covariance = covariance_matrix[0, 1]\n",
        "    return covariance\n",
        "M = 10\n",
        "vector1 = np.random.rand(M)\n",
        "vector2 = np.random.rand(M)\n",
        "covariance = compute_covariance(vector1, vector2)\n",
        "print(\"Vector 1 (1xM):\", vector1)\n",
        "print(\"Vector 2 (1xM):\", vector2)\n",
        "print(\"Covariance between Vector 1 and Vector 2:\", covariance)\n",
        "# Covariance: The covariance between two vectors measures how much the two vectors vary together.\n",
        "#             A positive covariance indicates that as one vector increases, the other tends to increase as well.\n",
        "#             A negative covariance indicates that as one vector increases, the other tends to decrease.\n",
        "#             If the covariance is close to zero, it suggests that the vectors are not linearly related.\n"
      ],
      "metadata": {
        "colab": {
          "base_uri": "https://localhost:8080/"
        },
        "id": "c23-9xrLHmcE",
        "outputId": "6742631e-5e60-403f-92ab-735d4b57f874"
      },
      "execution_count": null,
      "outputs": [
        {
          "output_type": "stream",
          "name": "stdout",
          "text": [
            "Vector 1 (1xM): [0.53660981 0.99994573 0.09091951 0.2545822  0.75100358 0.10555861\n",
            " 0.140247   0.20429652 0.4482209  0.43098376]\n",
            "Vector 2 (1xM): [0.07482508 0.64362894 0.89833075 0.69135692 0.24461311 0.44876568\n",
            " 0.00299044 0.86109054 0.96159558 0.95885862]\n",
            "Covariance between Vector 1 and Vector 2: -0.011060642841606991\n"
          ]
        }
      ]
    },
    {
      "cell_type": "code",
      "source": [
        "import numpy as np\n",
        "\n",
        "def compute_correlation(vector1, vector2):\n",
        "    correlation_matrix = np.corrcoef(vector1, vector2)\n",
        "    correlation = correlation_matrix[0, 1]\n",
        "    return correlation\n",
        "\n",
        "N = 10\n",
        "vector1 = np.random.rand(N)\n",
        "vector2 = np.random.rand(N)\n",
        "correlation = compute_correlation(vector1, vector2)\n",
        "\n",
        "print(\"Vector 1 (1xN):\", vector1)\n",
        "print(\"Vector 2 (1xN):\", vector2)\n",
        "print(\"Correlation between Vector 1 and Vector 2:\", correlation)\n",
        "\n",
        "# Correlation: The correlation between two vectors measures the strength and direction of their linear relationship.\n",
        "#              It ranges from -1 to 1:\n",
        "#               1 indicates a perfect positive linear relationship.\n",
        "#              -1 indicates a perfect negative linear relationship.\n",
        "#               0 indicates no linear relationship.\n"
      ],
      "metadata": {
        "colab": {
          "base_uri": "https://localhost:8080/"
        },
        "id": "c_uATZobIqR_",
        "outputId": "85380625-0cea-43ff-bdbf-c2c8b2f5afb7"
      },
      "execution_count": null,
      "outputs": [
        {
          "output_type": "stream",
          "name": "stdout",
          "text": [
            "Vector 1 (1xN): [0.55005263 0.35678212 0.93193224 0.13601356 0.50149363 0.39248854\n",
            " 0.95185797 0.58028979 0.14571516 0.55548841]\n",
            "Vector 2 (1xN): [0.40138406 0.05972904 0.5791281  0.47890127 0.4228893  0.80201175\n",
            " 0.02650923 0.99113309 0.7226346  0.09771186]\n",
            "Correlation between Vector 1 and Vector 2: -0.24951590631150256\n"
          ]
        }
      ]
    },
    {
      "cell_type": "code",
      "source": [
        "import numpy as np\n",
        "def compute_covariance_matrix(matrix):\n",
        "\n",
        "    covariance_matrix = np.cov(matrix, rowvar=True)\n",
        "    return covariance_matrix\n",
        "\n",
        "def compute_correlation_matrix(matrix):\n",
        "\n",
        "    correlation_matrix = np.corrcoef(matrix, rowvar=True)\n",
        "    return correlation_matrix\n",
        "M = 5\n",
        "N = 10\n",
        "matrix = np.random.rand(M, N)\n",
        "covariance_matrix = compute_covariance_matrix(matrix)\n",
        "correlation_matrix = compute_correlation_matrix(matrix)\n",
        "print(\"Matrix (MxN):\\n\", matrix)\n",
        "print(\"\\nCovariance Matrix (MxM):\\n\", covariance_matrix)\n",
        "print(\"\\nCorrelation Matrix (MxM):\\n\", correlation_matrix)\n",
        "\n",
        "# Covariance Matrix: The covariance matrix shows the covariance between each pair of features.\n",
        "#                   The (i,j) entry of the matrix represents the covariance between the ith and jth features.\n",
        "#                   A positive value indicates that the two features increase together,\n",
        "#                   while a negative value indicates that as one feature increases, the other tends to decrease.\n",
        "#\n",
        "# Correlation Matrix: The correlation matrix normalizes the covariance matrix to provide a scale-free measure of the\n",
        "#                     linear relationship between features. The values range from -1 to 1.\n",
        "#                     A value of 1 indicates a perfect positive linear relationship, -1 indicates a perfect negative\n",
        "#                     linear relationship, and 0 indicates no linear relationship.\n"
      ],
      "metadata": {
        "colab": {
          "base_uri": "https://localhost:8080/"
        },
        "id": "_M9mqtWmJ5gI",
        "outputId": "664499f4-f2f5-4c4a-bef0-4ae94e2e951f"
      },
      "execution_count": null,
      "outputs": [
        {
          "output_type": "stream",
          "name": "stdout",
          "text": [
            "Matrix (MxN):\n",
            " [[0.54491542 0.9076413  0.95123671 0.38895261 0.16985938 0.376444\n",
            "  0.52054317 0.60035512 0.26656511 0.20767602]\n",
            " [0.57308893 0.75537606 0.58026768 0.07257408 0.69465788 0.55645983\n",
            "  0.20405625 0.50528969 0.41310071 0.90897137]\n",
            " [0.89855503 0.86707517 0.92810294 0.54779677 0.37496998 0.27487758\n",
            "  0.16668617 0.49779653 0.97293059 0.87057786]\n",
            " [0.00480813 0.41172449 0.37146675 0.83449701 0.45533264 0.40795011\n",
            "  0.16633521 0.81920277 0.63911883 0.74554833]\n",
            " [0.96266664 0.10104731 0.74827642 0.18457408 0.1256745  0.44944897\n",
            "  0.88971443 0.94637315 0.45696682 0.88180286]]\n",
            "\n",
            "Covariance Matrix (MxM):\n",
            " [[ 0.07315545  0.00186103  0.02310119 -0.02303046  0.01013179]\n",
            " [ 0.00186103  0.06180362  0.03021384 -0.00370568  0.00424219]\n",
            " [ 0.02310119  0.03021384  0.0913034   0.00499532  0.00812579]\n",
            " [-0.02303046 -0.00370568  0.00499532  0.0758535  -0.02210813]\n",
            " [ 0.01013179  0.00424219  0.00812579 -0.02210813  0.12445022]]\n",
            "\n",
            "Correlation Matrix (MxM):\n",
            " [[ 1.          0.02767726  0.28266206 -0.3091658   0.10618542]\n",
            " [ 0.02767726  1.          0.40221245 -0.05412184  0.04837102]\n",
            " [ 0.28266206  0.40221245  1.          0.06002499  0.07622973]\n",
            " [-0.3091658  -0.05412184  0.06002499  1.         -0.22754448]\n",
            " [ 0.10618542  0.04837102  0.07622973 -0.22754448  1.        ]]\n"
          ]
        }
      ]
    }
  ]
}